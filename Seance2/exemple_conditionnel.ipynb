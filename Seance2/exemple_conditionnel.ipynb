{
 "cells": [
  {
   "cell_type": "markdown",
   "metadata": {},
   "source": [
    "Flux conditionnel avec IF"
   ]
  },
  {
   "cell_type": "code",
   "execution_count": 3,
   "metadata": {},
   "outputs": [
    {
     "name": "stdout",
     "output_type": "stream",
     "text": [
      "le nombre saisi : -1 est negatif\n"
     ]
    }
   ],
   "source": [
    "#ecrire un code qui permet de saisir un entier \n",
    "#verifier si il est positif, negatif ou null\n",
    "\n",
    "nb=int(input(\"veuillez saisir un entier\"))\n",
    "\n",
    "if nb >0 :\n",
    "    print(\"le nombre saisi :\",nb,\"est positif\")\n",
    "elif nb <0 :\n",
    "    print(\"le nombre saisi :\",nb,\"est negatif\")\n",
    "else :\n",
    "    print(\"le nombre saisi :\",nb,\"est null\")"
   ]
  }
 ],
 "metadata": {
  "kernelspec": {
   "display_name": "venv_DataScience",
   "language": "python",
   "name": "python3"
  },
  "language_info": {
   "codemirror_mode": {
    "name": "ipython",
    "version": 3
   },
   "file_extension": ".py",
   "mimetype": "text/x-python",
   "name": "python",
   "nbconvert_exporter": "python",
   "pygments_lexer": "ipython3",
   "version": "3.10.5"
  }
 },
 "nbformat": 4,
 "nbformat_minor": 2
}
