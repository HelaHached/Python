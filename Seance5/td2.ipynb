{
 "cells": [
  {
   "cell_type": "markdown",
   "metadata": {},
   "source": [
    "<h3>TD n°2 : Concepts fondamentaux en Programmation Python</h3>"
   ]
  },
  {
   "cell_type": "markdown",
   "metadata": {},
   "source": [
    "<span style=\"color:white;\">\n",
    "<b>Exercice 1:</b>\n",
    "\n",
    "L'objectif de cet exercice est de maitriser le concept de datetime.\n",
    "\n",
    "On veut saisir les noms ainsi que les dates de naissance de plusieurs personnes. Puis, on va leurs faire des simples statistiques.\n",
    "</span>"
   ]
  },
  {
   "cell_type": "markdown",
   "metadata": {},
   "source": [
    "1. Déclarer un dictionnaire vide appelé <font color=\"red\">dates_naissance</font>"
   ]
  },
  {
   "cell_type": "code",
   "execution_count": 28,
   "metadata": {},
   "outputs": [],
   "source": [
    "dates_naissance={}"
   ]
  },
  {
   "cell_type": "markdown",
   "metadata": {},
   "source": [
    "2. Définir une fonction <font color=\"red\">saisir_personne</font> qui demande à l'utilisateur de saisir son nom ainsi que sa date de naissance. Puis, elle pose la question s'il veut continuer ou non. Elle retourne 3 valeurs :\n",
    "- valeur booléenne : Vrai pour continuer la saisie ou Faux pour arrêter\n",
    "- nom de la personne\n",
    "- date de naissance\n",
    "\n",
    "Note : la date de naissance est de format 'jj-mm-yyyy'"
   ]
  },
  {
   "cell_type": "code",
   "execution_count": 26,
   "metadata": {},
   "outputs": [],
   "source": [
    "from datetime import datetime\n",
    "\n",
    "def saisir_personne():\n",
    "    nom = input(\"Entrez votre nom : \")\n",
    "    try:\n",
    "        date= datetime.strptime(input(\"Entrez votre date de naissance (jj-mm-yyyy) : \"),'%d-%m-%Y')\n",
    "    except:\n",
    "        date=None\n",
    "    finally:\n",
    "        continuer = input(\"Voulez-vous continuer ? (oui/non) : \")\n",
    "   \n",
    "    if continuer.lower() == 'oui':\n",
    "       return True, nom, date\n",
    "    else:\n",
    "        return False, nom, date\n",
    "    \n",
    "        "
   ]
  },
  {
   "cell_type": "markdown",
   "metadata": {},
   "source": [
    "3. Utiliser la fonction  <font color=\"red\">saisir_personne</font> pour saisir les noms et dates de naissance de plusieurs personnes jusqu'à ce que l'utilisateur arrête la saisie."
   ]
  },
  {
   "cell_type": "code",
   "execution_count": 31,
   "metadata": {},
   "outputs": [],
   "source": [
    "continuer=True\n",
    "while continuer:\n",
    "\n",
    "    continuer,nom,date= saisir_personne()\n",
    "    if date != None:\n",
    "        dates_naissance[nom]=date\n"
   ]
  },
  {
   "cell_type": "code",
   "execution_count": 32,
   "metadata": {},
   "outputs": [
    {
     "data": {
      "text/plain": [
       "{'hela': datetime.datetime(2001, 3, 18, 0, 0),\n",
       " 'ines': datetime.datetime(2000, 6, 29, 0, 0),\n",
       " 'ines2': datetime.datetime(2000, 8, 26, 0, 0),\n",
       " 'marouane': datetime.datetime(1983, 8, 24, 0, 0)}"
      ]
     },
     "execution_count": 32,
     "metadata": {},
     "output_type": "execute_result"
    }
   ],
   "source": [
    "dates_naissance\n"
   ]
  },
  {
   "cell_type": "markdown",
   "metadata": {},
   "source": [
    "4. Déterminer le nom de la personne la plus jeune ainsi que la plus agée."
   ]
  },
  {
   "cell_type": "code",
   "execution_count": 37,
   "metadata": {},
   "outputs": [
    {
     "name": "stdout",
     "output_type": "stream",
     "text": [
      "la personne la plus agée marouane et la plus jeune est hela \n"
     ]
    }
   ],
   "source": [
    "#erreur de fonction à corriger plus tard\n",
    "datemin=dates_naissance[\"ines\"]\n",
    "datemax=dates_naissance[\"ines\"]\n",
    "\n",
    "nomagee=\"ines\"\n",
    "nomjeune=\"ines\"\n",
    "\n",
    "for nom,date in dates_naissance.items():\n",
    "    if date<datemin :\n",
    "        datemin=date\n",
    "        nomagee=nom\n",
    "    \n",
    "    if date>datemax :\n",
    "        datemax=date\n",
    "        nomjeune=nom\n",
    "    \n",
    "\n",
    "print(\"la personne la plus agée %s et la plus jeune est %s \" %(nomagee, nomjeune))\n"
   ]
  },
  {
   "cell_type": "markdown",
   "metadata": {},
   "source": [
    "5. Définir une fonction  <font color=\"red\">calculer_age</font> qui calcule l'âge d'une personne étant donné la date de naissance."
   ]
  },
  {
   "cell_type": "code",
   "execution_count": 38,
   "metadata": {},
   "outputs": [],
   "source": [
    "def calculer_age(date_personne):\n",
    "    annee_actu= datetime.now().year\n",
    "    return(annee_actu-date_personne.year) \n"
   ]
  },
  {
   "cell_type": "markdown",
   "metadata": {},
   "source": [
    "6. Calculer les âges de toutes les personnes et les mettre dans un dictionnaire  <font color=\"red\">ages</font>."
   ]
  },
  {
   "cell_type": "code",
   "execution_count": 39,
   "metadata": {},
   "outputs": [
    {
     "data": {
      "text/plain": [
       "{'hela': 23, 'ines': 24, 'ines2': 24, 'marouane': 41}"
      ]
     },
     "execution_count": 39,
     "metadata": {},
     "output_type": "execute_result"
    }
   ],
   "source": [
    "ages={}\n",
    "for nom,date in dates_naissance.items():\n",
    "    ages[nom]=calculer_age(date)\n",
    "\n",
    "ages"
   ]
  },
  {
   "cell_type": "markdown",
   "metadata": {},
   "source": [
    "7. Déterminer l'âge moyenne des personnes.\n",
    "\n",
    "Puis, dire combien de personnes sont au-dessous et au-dessus de l'âge moyenne."
   ]
  },
  {
   "cell_type": "code",
   "execution_count": 43,
   "metadata": {},
   "outputs": [
    {
     "data": {
      "text/plain": [
       "28.0"
      ]
     },
     "execution_count": 43,
     "metadata": {},
     "output_type": "execute_result"
    }
   ],
   "source": [
    "\n",
    "# programation fonctionelle fi3oudh for na3mlou Map, Reduce, Filter =>plus rapide \n",
    "# fonction recurcive t3ayet lrouha bch tged fonction o dima associé l fonction lambda\n",
    "from functools import reduce\n",
    "s=reduce(lambda x,y : x+y, list(ages.values()))\n",
    "moyenne= s/len(ages)\n",
    "moyenne"
   ]
  },
  {
   "cell_type": "code",
   "execution_count": 50,
   "metadata": {},
   "outputs": [
    {
     "name": "stdout",
     "output_type": "stream",
     "text": [
      "il y a  3 personnes en dessous de la moyenne  28.0 et au dessus il y a  1 personnes\n"
     ]
    }
   ],
   "source": [
    "import numpy as np\n",
    "\n",
    "s=0\n",
    "m=0\n",
    "moy=np.mean(list(ages.values()))\n",
    "\n",
    "for i in list(ages.values()):\n",
    "    if i>moy:\n",
    "        s+=1\n",
    "    else:\n",
    "        m+=1\n",
    "        \n",
    "print(\"il y a \",m,\"personnes en dessous de la moyenne \",moy,\"et au dessus il y a \",s,\"personnes\")\n"
   ]
  },
  {
   "cell_type": "code",
   "execution_count": 54,
   "metadata": {},
   "outputs": [
    {
     "name": "stdout",
     "output_type": "stream",
     "text": [
      "il y a  3 personnes en dessous de la moyenne  28.0 et au dessus il y a  1 personnes\n"
     ]
    }
   ],
   "source": [
    " # option okhra b filtre aal age\n",
    "\n",
    "agedessous=list(filter(lambda age: age<moy, list(ages.values())))\n",
    "agedessus=list(filter(lambda age: age>moy, list(ages.values())))\n",
    "\n",
    "print(\"il y a \",len(agedessous),\"personnes en dessous de la moyenne \",moy,\"et au dessus il y a \",len(agedessus),\"personnes\")\n"
   ]
  },
  {
   "cell_type": "markdown",
   "metadata": {},
   "source": [
    "<span style=\"color:white;\">\n",
    "<b>Exercice 2:</b>\n",
    "\n",
    "<u>Objectifs:</u>\n",
    "- Savoir définir une classe en Python.\n",
    "- Surcharger des méthodes prédéfinies : `__init__` , `__str__` et des opérateurs comme `__eq__`\n",
    "\n",
    "<u>Travaul demandé:</u>\n",
    "- On veut définir une classe `Ville` qui représente une ville métropolitaine. \n",
    "- Une ville est caractérisée par :\n",
    "    - nom de la ville\n",
    "    - indice de pollution : indice entre 0 et 100 qui reflète le degré de pollution dans la ville (0 très bon et 100 très mauvais).\n",
    "    - population : nombre des résidents dans la ville (en millions de personnes)\n",
    "\n",
    "<u>Questions :</u>\n",
    "</span>"
   ]
  },
  {
   "cell_type": "markdown",
   "metadata": {},
   "source": [
    "1. Dans cette classe `Ville`, définir la méthode suivante :\n",
    "- `__init__` : \n",
    "    - C'est le constructeur qui initialise les informations d'un objet `Ville`\n",
    "    - Il est appelé systématiquement lors de la crétaion d'un objet de la classe `Ville`"
   ]
  },
  {
   "cell_type": "code",
   "execution_count": 55,
   "metadata": {},
   "outputs": [],
   "source": [
    "class Ville:\n",
    "    def __init__(self, nom,pollution,population):\n",
    "        self.nom=nom\n",
    "        self.pollution=pollution\n",
    "        self.population=population"
   ]
  },
  {
   "cell_type": "markdown",
   "metadata": {},
   "source": [
    "<u>Observation et Interprétation</u>\n",
    "\n",
    "<br> Après avoir défini le constructeur, exécuter les bouts de codes ci-dessous, et interpréter."
   ]
  },
  {
   "cell_type": "markdown",
   "metadata": {},
   "source": [
    "Convertir un objet ville en chaine de caractères en utilisant la fonction `str()`"
   ]
  },
  {
   "cell_type": "code",
   "execution_count": 56,
   "metadata": {},
   "outputs": [],
   "source": [
    "# Création d'un objet de la classe Ville\n",
    "v1=Ville('Tokyo',20,10.560)"
   ]
  },
  {
   "cell_type": "code",
   "execution_count": 59,
   "metadata": {},
   "outputs": [
    {
     "data": {
      "text/plain": [
       "'10'"
      ]
     },
     "execution_count": 59,
     "metadata": {},
     "output_type": "execute_result"
    }
   ],
   "source": [
    "# Convertir une ville en str\n",
    "str(v1)\n",
    "str(10)"
   ]
  },
  {
   "cell_type": "code",
   "execution_count": 61,
   "metadata": {},
   "outputs": [
    {
     "data": {
      "text/plain": [
       "'10'"
      ]
     },
     "execution_count": 61,
     "metadata": {},
     "output_type": "execute_result"
    }
   ],
   "source": [
    "x=int(10)\n",
    "x.__str__()"
   ]
  },
  {
   "cell_type": "markdown",
   "metadata": {},
   "source": [
    "Afficher les informations d'une ville en utilisant la fonction `print()`"
   ]
  },
  {
   "cell_type": "code",
   "execution_count": 58,
   "metadata": {},
   "outputs": [
    {
     "name": "stdout",
     "output_type": "stream",
     "text": [
      "<__main__.Ville object at 0x000002959ECE0E20>\n"
     ]
    }
   ],
   "source": [
    "print(v1)"
   ]
  },
  {
   "cell_type": "markdown",
   "metadata": {},
   "source": [
    "Comparer deux objets ayant les mêmes informations de ville"
   ]
  },
  {
   "cell_type": "code",
   "execution_count": 49,
   "metadata": {},
   "outputs": [],
   "source": [
    "# Créer un deuxième objet de la classe Ville représentant les mêmes informations de la ville\n",
    "v2=Ville('Tokyo',20,10.560)"
   ]
  },
  {
   "cell_type": "code",
   "execution_count": 50,
   "metadata": {},
   "outputs": [
    {
     "data": {
      "text/plain": [
       "False"
      ]
     },
     "execution_count": 50,
     "metadata": {},
     "output_type": "execute_result"
    }
   ],
   "source": [
    "# Comparer les deux objets v1 et v2\n",
    "v1==v2"
   ]
  },
  {
   "cell_type": "markdown",
   "metadata": {},
   "source": [
    "Interpréter ?"
   ]
  },
  {
   "cell_type": "markdown",
   "metadata": {},
   "source": [
    "Rien A Interpreter"
   ]
  },
  {
   "cell_type": "markdown",
   "metadata": {},
   "source": [
    "2. Dans la classe `Ville`, ajouter la méthode :\n",
    "- `__str__` :  \n",
    "    - Il s'agit d'une méthode prédéfinie en Python qu'on va surcharger. \n",
    "    - Elle n'a pas d'arguments.\n",
    "    - Elle retourne uen chaine de caractères. Dans notre cas, la chaine retournée est une description de la ville en utilisant les attributs de la ville.\n",
    "    - Elle est appelée systémtiquement par la fonction `str()` ou `print()` lorsqu'on leurs passe un objet de la classe."
   ]
  },
  {
   "cell_type": "code",
   "execution_count": 62,
   "metadata": {},
   "outputs": [],
   "source": [
    "class Ville:\n",
    "    def __init__(self, nom,pollution,population):\n",
    "        self.nom=nom\n",
    "        self.pollution=pollution\n",
    "        self.population=population\n",
    "\n",
    "    def __str__(self) :\n",
    "        return self.nom+\"[indice=\"+str(self.pollution)+\",population=\"+str(self.population)+\"]\""
   ]
  },
  {
   "cell_type": "code",
   "execution_count": 63,
   "metadata": {},
   "outputs": [],
   "source": [
    "v1=Ville('Tokyo',20,10.560)"
   ]
  },
  {
   "cell_type": "code",
   "execution_count": 64,
   "metadata": {},
   "outputs": [
    {
     "data": {
      "text/plain": [
       "'Tokyo[indice=20,population=10.56]'"
      ]
     },
     "execution_count": 64,
     "metadata": {},
     "output_type": "execute_result"
    }
   ],
   "source": [
    "str(v1)"
   ]
  },
  {
   "cell_type": "code",
   "execution_count": 65,
   "metadata": {},
   "outputs": [
    {
     "name": "stdout",
     "output_type": "stream",
     "text": [
      "Tokyo[indice=20,population=10.56] est la capitale de Japan.\n"
     ]
    }
   ],
   "source": [
    "print(v1,'est la capitale de Japan.')"
   ]
  },
  {
   "cell_type": "markdown",
   "metadata": {},
   "source": [
    "3. Dans la classe Ville, ajouter la méthode :\n",
    "- `__eq__`(self, ville) :\n",
    "    - Il s'agit d'une méthode prédéfinie en Python qu'on va surcharger.\n",
    "    - Elle a un seul argument. Dans notre cas, il s'agit d'une autre ville.\n",
    "    - Elle retourne une valeur booléenne. (True si les deux villes sont égaux sinon False).\n",
    "    - Elle permet de comparer si une ville (self) est égale à une autre (l'argument ville).\n",
    "    - Elle est appelée systématiquement si on utilise l'oéprateur `==`\n"
   ]
  },
  {
   "cell_type": "code",
   "execution_count": 67,
   "metadata": {},
   "outputs": [],
   "source": [
    "class Ville:\n",
    "    \n",
    "    def __init__(self, nom,pollution,population):\n",
    "        self.nom=nom\n",
    "        self.pollution=pollution\n",
    "        self.population=population\n",
    "\n",
    "    def __str__(self) :\n",
    "        return self.nom+\"[indice=\"+str(self.pollution)+\",population=\"+str(self.population)+\"]\"\n",
    "        \n",
    "    def __eq__(self,ville) -> bool :\n",
    "        return True if self.nom.upper()==ville.nom.upper() and self.pollution==ville.pollution and self.population==ville.population else False\n",
    "        "
   ]
  },
  {
   "cell_type": "code",
   "execution_count": 68,
   "metadata": {},
   "outputs": [
    {
     "data": {
      "text/plain": [
       "True"
      ]
     },
     "execution_count": 68,
     "metadata": {},
     "output_type": "execute_result"
    }
   ],
   "source": [
    "v1=Ville('TOKYO',20,10.560)\n",
    "v2=Ville('tokyo',20,10.560)\n",
    "v1==v2"
   ]
  },
  {
   "cell_type": "code",
   "execution_count": 69,
   "metadata": {},
   "outputs": [
    {
     "data": {
      "text/plain": [
       "False"
      ]
     },
     "execution_count": 69,
     "metadata": {},
     "output_type": "execute_result"
    }
   ],
   "source": [
    "v1=Ville('TOKYO',20,10.5)\n",
    "v2=Ville('tokyo',20,10.560)\n",
    "v1==v2"
   ]
  },
  {
   "cell_type": "markdown",
   "metadata": {},
   "source": [
    "4. Essayer de surcharger d'autres opérateurs de coparaison en utilisant les fonctions prédéfinies : `__lt__`: less then\n",
    " `__le__` : less equal\n",
    "  `__gt__` : greater ...\n",
    "   `__ge__`"
   ]
  },
  {
   "cell_type": "code",
   "execution_count": null,
   "metadata": {},
   "outputs": [],
   "source": []
  },
  {
   "cell_type": "markdown",
   "metadata": {},
   "source": [
    "<span style=\"color:blue;\">\n",
    "<b>Exercice 3:</b>\n",
    "\n",
    "<u>Objectifs:</u>\n",
    "- Définir une classe `Villes` qui représente une `collection` de villes.\n",
    "\n",
    "\n",
    "<u>Travail demandé:</u>\n",
    "- On veut étudier la pollution et la population des villes métropolitaines : London, Paris, Tokyo et Bejing."
   ]
  },
  {
   "cell_type": "markdown",
   "metadata": {},
   "source": [
    "1. Dans cette classe `Villes`, définir la méthode suivante :\n",
    "- `__init__` : \n",
    "    - C'est le constructeur qui initialise une liste des objets de type `Ville`.\n",
    "    - Cette liste est notée `liste` et elle est intialisée comme vide.\n",
    "    - Le constructeur est appelé systématiquement lors de la crétaion d'un objet de la classe `Villes`"
   ]
  },
  {
   "cell_type": "markdown",
   "metadata": {},
   "source": []
  },
  {
   "cell_type": "code",
   "execution_count": 22,
   "metadata": {},
   "outputs": [],
   "source": [
    "class Villes:\n",
    "     def __init__(self, ville):\n",
    "        ville=()\n",
    "        self.ville=ville\n"
   ]
  },
  {
   "cell_type": "code",
   "execution_count": 24,
   "metadata": {},
   "outputs": [
    {
     "ename": "NameError",
     "evalue": "name 'ville' is not defined",
     "output_type": "error",
     "traceback": [
      "\u001b[1;31m---------------------------------------------------------------------------\u001b[0m",
      "\u001b[1;31mNameError\u001b[0m                                 Traceback (most recent call last)",
      "Cell \u001b[1;32mIn[24], line 1\u001b[0m\n\u001b[1;32m----> 1\u001b[0m villes\u001b[38;5;241m=\u001b[39mVilles(\u001b[43mville\u001b[49m)\n",
      "\u001b[1;31mNameError\u001b[0m: name 'ville' is not defined"
     ]
    }
   ],
   "source": [
    "villes=Villes()"
   ]
  },
  {
   "cell_type": "markdown",
   "metadata": {},
   "source": [
    "2. Dans la classe `Villes`, ajouter la méthode:\n",
    "- `__len__()` :\n",
    "    - Elle ne prend pas d'argument\n",
    "    - Elle retourne la longueur de la liste des villes.\n",
    "    - Elle est appelée systémtaiquement par `len()`lorsqu'on lui passe un objet de type `Villes`."
   ]
  },
  {
   "cell_type": "code",
   "execution_count": 50,
   "metadata": {},
   "outputs": [],
   "source": [
    "class Villes:\n",
    "    def __init__(self):\n",
    "        #?\n",
    "    def __len__(self):\n",
    "        #?"
   ]
  },
  {
   "cell_type": "code",
   "execution_count": 51,
   "metadata": {},
   "outputs": [],
   "source": [
    "# Créer une collection vide de villes\n",
    "villes=Villes()"
   ]
  },
  {
   "cell_type": "code",
   "execution_count": 52,
   "metadata": {},
   "outputs": [
    {
     "data": {
      "text/plain": [
       "0"
      ]
     },
     "execution_count": 52,
     "metadata": {},
     "output_type": "execute_result"
    }
   ],
   "source": [
    "# Appeler la fonction len() et lui passer en argument la collection de villes\n",
    "len(villes)"
   ]
  },
  {
   "cell_type": "markdown",
   "metadata": {},
   "source": [
    "3. Dans la classe `Villes`, ajouter la méthode :\n",
    "- `__iadd__` :\n",
    "    - Cette méthode représente l'opérateur `+=` qu'on veut surcharger\n",
    "    <br>-> Exemple: \n",
    "        - Soit `villes` objet de type `Villes`\n",
    "        - Soit `ville` objet de type `Ville`\n",
    "        - L'opération `villes += ville` est équivalente à `villes = villes.__iadd__(ville)`\n",
    "    - Elle prend comme argument un objet de type `Ville`\n",
    "    - Elle retourne `self`\n",
    "    - Elle ajoute l'objet en argument dans  la liste d'objet `liste`"
   ]
  },
  {
   "cell_type": "code",
   "execution_count": 90,
   "metadata": {},
   "outputs": [],
   "source": [
    "class Villes:\n",
    "    def __init__(self):\n",
    "        #?\n",
    "    def __len__(self):\n",
    "        #?\n",
    "    def __iadd__(self, autre_ville):\n",
    "        #?"
   ]
  },
  {
   "cell_type": "code",
   "execution_count": 91,
   "metadata": {},
   "outputs": [],
   "source": [
    "# Créer une collection vide de villes\n",
    "villes=Villes()"
   ]
  },
  {
   "cell_type": "code",
   "execution_count": 92,
   "metadata": {},
   "outputs": [
    {
     "data": {
      "text/plain": [
       "0"
      ]
     },
     "execution_count": 92,
     "metadata": {},
     "output_type": "execute_result"
    }
   ],
   "source": [
    "# longueur de la collection des villes\n",
    "len(villes)"
   ]
  },
  {
   "cell_type": "code",
   "execution_count": 93,
   "metadata": {},
   "outputs": [],
   "source": [
    "# Ajouter une ville à la colelction\n",
    "v1 = Ville('Tokyo',20,13)\n",
    "villes += v1"
   ]
  },
  {
   "cell_type": "code",
   "execution_count": 94,
   "metadata": {},
   "outputs": [
    {
     "data": {
      "text/plain": [
       "1"
      ]
     },
     "execution_count": 94,
     "metadata": {},
     "output_type": "execute_result"
    }
   ],
   "source": [
    "# longueur de la collection des villes\n",
    "len(villes)"
   ]
  },
  {
   "cell_type": "markdown",
   "metadata": {},
   "source": [
    "4. Dans la classe `Villes`, ajouter la méthode suivante :\n",
    "- `__str__` :\n",
    "    - Elle n'a pas d'argument.\n",
    "    - Elle retourne une chaine de caractères qui décrit la collection des villes."
   ]
  },
  {
   "cell_type": "code",
   "execution_count": 96,
   "metadata": {},
   "outputs": [],
   "source": [
    "class Villes:\n",
    "    def __init__(self):\n",
    "        #?\n",
    "    def __len__(self):\n",
    "        #?\n",
    "    def __iadd__(self, autre_ville):\n",
    "        #?\n",
    "    def __str__(self):\n",
    "        #?"
   ]
  },
  {
   "cell_type": "code",
   "execution_count": 97,
   "metadata": {},
   "outputs": [],
   "source": [
    "# Créer une collection de deux villes\n",
    "villes=Villes()\n",
    "v1 = Ville('Tokyo',20,13)\n",
    "villes += v1\n",
    "v2 = Ville('Paris',30,15)\n",
    "villes += v2"
   ]
  },
  {
   "cell_type": "code",
   "execution_count": 98,
   "metadata": {},
   "outputs": [
    {
     "name": "stdout",
     "output_type": "stream",
     "text": [
      "Tokyo[indice de pollution=20.00,population=13.00]\n",
      "Paris[indice de pollution=30.00,population=15.00]\n",
      "\n"
     ]
    }
   ],
   "source": [
    "# Afficher la collection des villes\n",
    "print(villes)"
   ]
  }
 ],
 "metadata": {
  "kernelspec": {
   "display_name": "venv_ds",
   "language": "python",
   "name": "python3"
  },
  "language_info": {
   "codemirror_mode": {
    "name": "ipython",
    "version": 3
   },
   "file_extension": ".py",
   "mimetype": "text/x-python",
   "name": "python",
   "nbconvert_exporter": "python",
   "pygments_lexer": "ipython3",
   "version": "3.10.5"
  }
 },
 "nbformat": 4,
 "nbformat_minor": 2
}
