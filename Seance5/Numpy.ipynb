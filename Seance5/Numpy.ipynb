{
 "cells": [
  {
   "cell_type": "markdown",
   "metadata": {},
   "source": [
    "<b>Scalaire</b>\n",
    "\n",
    "l'utilisation de Numpy dans les exemples operation Math scalaires est inutile."
   ]
  },
  {
   "cell_type": "code",
   "execution_count": 2,
   "metadata": {},
   "outputs": [
    {
     "data": {
      "text/plain": [
       "3"
      ]
     },
     "execution_count": 2,
     "metadata": {},
     "output_type": "execute_result"
    }
   ],
   "source": [
    "# Version Sans Numpy \n",
    "\n",
    "x=1\n",
    "y=2\n",
    "z=x+y\n",
    "\n",
    "z"
   ]
  },
  {
   "cell_type": "markdown",
   "metadata": {},
   "source": [
    "Pour utiliser numpy, \n",
    "installer avec : pip install numpy\n",
    "\n",
    "Utilisation : il faut importer numpy dans "
   ]
  },
  {
   "cell_type": "code",
   "execution_count": 4,
   "metadata": {},
   "outputs": [],
   "source": [
    "import numpy as np"
   ]
  },
  {
   "cell_type": "code",
   "execution_count": 5,
   "metadata": {},
   "outputs": [
    {
     "data": {
      "text/plain": [
       "3"
      ]
     },
     "execution_count": 5,
     "metadata": {},
     "output_type": "execute_result"
    }
   ],
   "source": [
    "x=np.array(1)\n",
    "y=np.array(2)\n",
    "z=x+y\n",
    "z"
   ]
  },
  {
   "cell_type": "markdown",
   "metadata": {},
   "source": [
    "<b>Vecteur</b>\n",
    "\n",
    "\n",
    "l'utilisation de Numpy dans les exemples operation Math vecteurs,permet de réaliser des resultats mathematiques"
   ]
  },
  {
   "cell_type": "code",
   "execution_count": 6,
   "metadata": {},
   "outputs": [
    {
     "data": {
      "text/plain": [
       "[1, 2, 1, 1]"
      ]
     },
     "execution_count": 6,
     "metadata": {},
     "output_type": "execute_result"
    }
   ],
   "source": [
    "# Sans Numpy\n",
    "\n",
    "x=[1,2]\n",
    "y=[1,1]\n",
    "z=x+y\n",
    "\n",
    "z\n",
    "# le resultat attendue : [2,3] OR\n",
    "# Python natif réalise une opperation de concatination[1, 2, 1, 1] "
   ]
  },
  {
   "cell_type": "code",
   "execution_count": 7,
   "metadata": {},
   "outputs": [
    {
     "data": {
      "text/plain": [
       "array([2, 3])"
      ]
     },
     "execution_count": 7,
     "metadata": {},
     "output_type": "execute_result"
    }
   ],
   "source": [
    "# avec Numpy\n",
    "\n",
    "x=np.array([1,2])\n",
    "y=np.array([1,1])\n",
    "z=x+y\n",
    "\n",
    "z\n",
    "\n",
    "# le resultat Obtenue : [2,3]"
   ]
  },
  {
   "cell_type": "markdown",
   "metadata": {},
   "source": [
    "<b>Matrice</b>"
   ]
  },
  {
   "cell_type": "code",
   "execution_count": 8,
   "metadata": {},
   "outputs": [
    {
     "data": {
      "text/plain": [
       "[[1, 2], [3, 4], [1, 1], [1, 1]]"
      ]
     },
     "execution_count": 8,
     "metadata": {},
     "output_type": "execute_result"
    }
   ],
   "source": [
    "# Sans Numpy\n",
    "\n",
    "x=[[1,2],[3,4]]\n",
    "y=[[1,1],[1,1]]\n",
    "z=x+y\n",
    "\n",
    "z\n",
    "# le resultat attendue : [2,3],[4,5] OR\n",
    "# Python natif réalise une opperation de concatination [[1, 2], [3, 4], [1, 1], [1, 1]] "
   ]
  },
  {
   "cell_type": "code",
   "execution_count": 14,
   "metadata": {},
   "outputs": [
    {
     "data": {
      "text/plain": [
       "array([[2, 3],\n",
       "       [4, 5]])"
      ]
     },
     "execution_count": 14,
     "metadata": {},
     "output_type": "execute_result"
    }
   ],
   "source": [
    "# avec Numpy\n",
    "\n",
    "x=np.array([[1,2],[3,4]])\n",
    "y=np.array([[1,1],[1,1]])\n",
    "z=x+y\n",
    "\n",
    "z\n",
    "\n",
    "# le resultat Obtenue : [2,3],[4,5]"
   ]
  }
 ],
 "metadata": {
  "kernelspec": {
   "display_name": "venv_DataScience",
   "language": "python",
   "name": "python3"
  },
  "language_info": {
   "codemirror_mode": {
    "name": "ipython",
    "version": 3
   },
   "file_extension": ".py",
   "mimetype": "text/x-python",
   "name": "python",
   "nbconvert_exporter": "python",
   "pygments_lexer": "ipython3",
   "version": "3.10.5"
  }
 },
 "nbformat": 4,
 "nbformat_minor": 2
}
