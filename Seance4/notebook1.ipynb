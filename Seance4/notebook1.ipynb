{
 "cells": [
  {
   "cell_type": "markdown",
   "metadata": {},
   "source": [
    "<b>Objectifs:</b>\n",
    "\n",
    "Dans cette séance, on va terminer avec les concepts fondamentales du langage Python :\n",
    "- Type datetime\n",
    "- Les classes"
   ]
  },
  {
   "cell_type": "markdown",
   "metadata": {},
   "source": [
    "<b>Type datetime</b>"
   ]
  },
  {
   "cell_type": "markdown",
   "metadata": {},
   "source": [
    "Déclarer une variable de type datetime"
   ]
  },
  {
   "cell_type": "code",
   "execution_count": 1,
   "metadata": {},
   "outputs": [],
   "source": [
    "from datetime import datetime "
   ]
  },
  {
   "cell_type": "code",
   "execution_count": 3,
   "metadata": {},
   "outputs": [],
   "source": [
    "d = datetime(2024,2,1)"
   ]
  },
  {
   "cell_type": "markdown",
   "metadata": {},
   "source": [
    "Attributs de datetime"
   ]
  },
  {
   "cell_type": "code",
   "execution_count": 4,
   "metadata": {},
   "outputs": [
    {
     "data": {
      "text/plain": [
       "2024"
      ]
     },
     "execution_count": 4,
     "metadata": {},
     "output_type": "execute_result"
    }
   ],
   "source": [
    "d.year"
   ]
  },
  {
   "cell_type": "markdown",
   "metadata": {},
   "source": []
  },
  {
   "cell_type": "markdown",
   "metadata": {},
   "source": [
    "Conversion str -> datetime"
   ]
  },
  {
   "cell_type": "markdown",
   "metadata": {},
   "source": [
    "Exemple:\n",
    "Demander à un user de saisir sa date de naissance\n",
    "et calculer son age "
   ]
  },
  {
   "cell_type": "code",
   "execution_count": 8,
   "metadata": {},
   "outputs": [
    {
     "name": "stdout",
     "output_type": "stream",
     "text": [
      "23\n"
     ]
    }
   ],
   "source": [
    "date_s = input('entrer votre date de naissance (jj/mm/yyyy):')\n",
    "#conversion de la date\n",
    "date = datetime.strptime(date_s,'%d/%m/%Y')\n",
    "annee_courante=datetime.now()\n",
    "age= annee_courante.year - date.year\n",
    "print(age)\n"
   ]
  },
  {
   "cell_type": "markdown",
   "metadata": {},
   "source": [
    "Conversion datetime -> str (formattage)"
   ]
  },
  {
   "cell_type": "code",
   "execution_count": 11,
   "metadata": {},
   "outputs": [
    {
     "data": {
      "text/plain": [
       "'February'"
      ]
     },
     "execution_count": 11,
     "metadata": {},
     "output_type": "execute_result"
    }
   ],
   "source": [
    "#on va utiliserla date déclarer au debut : d = datetime(2024,2,1)\n",
    "d.strftime('%d-%m-%y')\n",
    "#nom du jour 01fev2024\n",
    "d.strftime('%A')\n",
    "#nom du mois 01fev2024\n",
    "d.strftime('%B')"
   ]
  },
  {
   "cell_type": "markdown",
   "metadata": {},
   "source": [
    "Operation sur les dates"
   ]
  },
  {
   "cell_type": "code",
   "execution_count": 17,
   "metadata": {},
   "outputs": [
    {
     "data": {
      "text/plain": [
       "2240"
      ]
     },
     "execution_count": 17,
     "metadata": {},
     "output_type": "execute_result"
    }
   ],
   "source": [
    "#Comparaison \n",
    "d1=datetime(2001,3,18)\n",
    "d2=datetime(2007,5,6)\n",
    "d1<d2\n",
    "\n",
    "decalage=d2-d1\n",
    "decalage.days"
   ]
  },
  {
   "cell_type": "markdown",
   "metadata": {},
   "source": [
    "<b>Les classes</b>"
   ]
  },
  {
   "cell_type": "markdown",
   "metadata": {},
   "source": [
    "Définition\n",
    "\n",
    "<u>Syntaxe:</u>\n",
    "\n",
    "    class nom_classe :\n",
    "        def __init__(self, arg1, arg2, ...):\n",
    "            self.att1 = arg1\n",
    "            self.att2 = arg2\n",
    "            ...\n",
    "\n",
    "        def methode_1(self, arg1, arg2, ..):\n",
    "            # code\n",
    "            [return valeur]\n",
    "\n",
    "Exemple:  \n",
    "- Définir la classe Point qui représente un point dans le plan 2D.\n",
    "- Un point est représenté par son nom (chaîne), ses coordonnées x et y (entiers)"
   ]
  },
  {
   "cell_type": "code",
   "execution_count": 22,
   "metadata": {},
   "outputs": [],
   "source": [
    "class Point:\n",
    "    def __init__(self,nom='',x=0,y=0):\n",
    "        self.nom=nom\n",
    "        self.x=x\n",
    "        self.y=y\n",
    "    "
   ]
  },
  {
   "cell_type": "markdown",
   "metadata": {},
   "source": [
    "Instantiation (Création d'objets)\n",
    "\n",
    "<u>Syntaxe:</u>\n",
    "\n",
    "    c = nom_classe(val1, val2, ...)\n",
    "    r = c.methode_1(val1, val2, ..)"
   ]
  },
  {
   "cell_type": "code",
   "execution_count": 28,
   "metadata": {},
   "outputs": [],
   "source": [
    "p= Point(\"A\",2,5)"
   ]
  },
  {
   "cell_type": "markdown",
   "metadata": {},
   "source": [
    "Ajouter une fonction dans la classe point d'afficher les informations d'un points selon format nom(x,y)"
   ]
  },
  {
   "cell_type": "code",
   "execution_count": 35,
   "metadata": {},
   "outputs": [],
   "source": [
    "class Point:\n",
    "    def __init__(self,nom='',x=0,y=0):\n",
    "        self.nom=nom\n",
    "        self.x=x\n",
    "        self.y=y\n",
    "\n",
    "    def afficher(self):\n",
    "        return print(self.nom+'('+str(self.x)+','+str(self.y)+')')"
   ]
  },
  {
   "cell_type": "code",
   "execution_count": 36,
   "metadata": {},
   "outputs": [
    {
     "name": "stdout",
     "output_type": "stream",
     "text": [
      "A(2,5)\n"
     ]
    }
   ],
   "source": [
    "p= Point(\"A\",2,5)\n",
    "p.afficher()"
   ]
  },
  {
   "cell_type": "code",
   "execution_count": 37,
   "metadata": {},
   "outputs": [],
   "source": [
    "class Point:\n",
    "    def __init__(self,nom='',x=0,y=0):\n",
    "        self.nom=nom\n",
    "        self.x=x\n",
    "        self.y=y\n",
    "\n",
    "    def afficher(self):\n",
    "        return print(self.nom+'('+str(self.x)+','+str(self.y)+')')\n",
    "    def decaler(self,decalx=0,decaly=0):\n",
    "        self.x+=decalx\n",
    "        self.y+=decaly\n",
    "        "
   ]
  },
  {
   "cell_type": "code",
   "execution_count": 39,
   "metadata": {},
   "outputs": [
    {
     "name": "stdout",
     "output_type": "stream",
     "text": [
      "A(2,5)\n",
      "A(7,7)\n"
     ]
    }
   ],
   "source": [
    "p= Point(\"A\",2,5)\n",
    "p.afficher()\n",
    "p.decaler(5,2)\n",
    "p.afficher()\n"
   ]
  },
  {
   "cell_type": "markdown",
   "metadata": {},
   "source": [
    "Les modules"
   ]
  },
  {
   "cell_type": "markdown",
   "metadata": {},
   "source": [
    "un module est un script python voir \"calcul.py\"\n",
    "Generalement il est dédiée pour deffinir un concept abstrait(classe, fonction) reutilisables"
   ]
  }
 ],
 "metadata": {
  "kernelspec": {
   "display_name": "venv_DataScience",
   "language": "python",
   "name": "python3"
  },
  "language_info": {
   "codemirror_mode": {
    "name": "ipython",
    "version": 3
   },
   "file_extension": ".py",
   "mimetype": "text/x-python",
   "name": "python",
   "nbconvert_exporter": "python",
   "pygments_lexer": "ipython3",
   "version": "3.10.5"
  }
 },
 "nbformat": 4,
 "nbformat_minor": 2
}
